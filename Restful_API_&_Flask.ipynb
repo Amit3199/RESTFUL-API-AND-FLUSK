{
  "nbformat": 4,
  "nbformat_minor": 0,
  "metadata": {
    "colab": {
      "provenance": []
    },
    "kernelspec": {
      "name": "python3",
      "display_name": "Python 3"
    },
    "language_info": {
      "name": "python"
    }
  },
  "cells": [
    {
      "cell_type": "markdown",
      "source": [
        "**RESTFUL API AND FLUSK**"
      ],
      "metadata": {
        "id": "Zc3nX7FwnaQw"
      }
    },
    {
      "cell_type": "markdown",
      "source": [],
      "metadata": {
        "id": "EzzQ80jqPDWd"
      }
    },
    {
      "cell_type": "markdown",
      "source": [
        "1. What is a RESTful API?"
      ],
      "metadata": {
        "id": "M5GA-sV2ng_A"
      }
    },
    {
      "cell_type": "markdown",
      "source": [
        "- A RESTful API, or REST API, is a way for computer systems to exchange information over the internet."
      ],
      "metadata": {
        "id": "K8uIRCPAoOhU"
      }
    },
    {
      "cell_type": "markdown",
      "source": [
        "2. Explain the concept of API specification."
      ],
      "metadata": {
        "id": "rUfykLrknaFk"
      }
    },
    {
      "cell_type": "markdown",
      "source": [
        "- An API specification is a formal document that outlines how an API should function and interact with other systems."
      ],
      "metadata": {
        "id": "4ZfJJewcog-i"
      }
    },
    {
      "cell_type": "markdown",
      "source": [
        "3. What is Flask, and why is it popular for building APIs?"
      ],
      "metadata": {
        "id": "PIYUtd5Uoiqb"
      }
    },
    {
      "cell_type": "markdown",
      "source": [
        "- Flask is a lightweight micro web framework in Python, well-suited for building RESTful APIs due to its flexibility and simplicity. Its popularity stems from being easy to learn, maintain, and extend. Flask is often preferred for API development because it provides a streamlined approach to building web applications and APIs without unnecessary overhead."
      ],
      "metadata": {
        "id": "5ceVwC74oqeM"
      }
    },
    {
      "cell_type": "markdown",
      "source": [
        "4. What is routing in Flask?"
      ],
      "metadata": {
        "id": "wA6IllMMozbq"
      }
    },
    {
      "cell_type": "markdown",
      "source": [
        "- Flask, routing is the process of mapping specific URLs to Python functions. This allows a web application to respond to different requests based on the URL a user visits."
      ],
      "metadata": {
        "id": "HSdd3Iguo3s9"
      }
    },
    {
      "cell_type": "markdown",
      "source": [
        "5. How do you create a simple Flask application?"
      ],
      "metadata": {
        "id": "efIqThT5o-97"
      }
    },
    {
      "cell_type": "markdown",
      "source": [
        "- Create a project folder.\n",
        "Inside the folder, create a virtual environment:"
      ],
      "metadata": {
        "id": "VCL3CYk4pCRb"
      }
    },
    {
      "cell_type": "markdown",
      "source": [
        "- Create a file named app.py (or any name you prefer).\n",
        "Add the following code:"
      ],
      "metadata": {
        "id": "2jWZdofZpP9v"
      }
    },
    {
      "cell_type": "markdown",
      "source": [
        "     from flask import Flask\n",
        "\n",
        "     app = Flask(__name__)\n",
        "\n",
        "     @app.route(\"/\")\n",
        "     def hello():\n",
        "         return \"Hello, World!\"\n",
        "\n",
        "     if __name__ == \"__main__\":\n",
        "         app.run(debug=True)"
      ],
      "metadata": {
        "id": "PjSgWO18pWDN"
      }
    },
    {
      "cell_type": "markdown",
      "source": [
        "6. What are HTTP methods used in RESTful APIs?"
      ],
      "metadata": {
        "id": "ZDUOGO4hnZ2V"
      }
    },
    {
      "cell_type": "markdown",
      "source": [
        "- RESTful APIs, the primary HTTP methods used for interacting with resources are GET, POST, PUT, PATCH, and DELETE. These methods correspond to the CRUD operations of Create, Read, Update, and Delete. Other methods exist, but these are the most frequently employed."
      ],
      "metadata": {
        "id": "D1sSY7FVpozm"
      }
    },
    {
      "cell_type": "markdown",
      "source": [
        "7. What is the purpose of the @app.route() decorator in Flask?"
      ],
      "metadata": {
        "id": "4sTNCCfapxeP"
      }
    },
    {
      "cell_type": "markdown",
      "source": [
        "- The @app.route() decorator in Flask serves as a crucial mechanism for mapping specific URLs to corresponding Python functions, known as view functions. It essentially defines the routes or endpoints of a web application."
      ],
      "metadata": {
        "id": "gPSa-yqKp2BY"
      }
    },
    {
      "cell_type": "markdown",
      "source": [
        "- reakdown of its purpose:"
      ],
      "metadata": {
        "id": "ynDxmBLpqGfm"
      }
    },
    {
      "cell_type": "markdown",
      "source": [
        "- The decorator associates a given URL pattern with a specific function. When a client (e.g., a web browser) requests that URL, Flask executes the associated function."
      ],
      "metadata": {
        "id": "akSCoEsmqK9p"
      }
    },
    {
      "cell_type": "markdown",
      "source": [
        "8. What is the difference between GET and POST HTTP methods?"
      ],
      "metadata": {
        "id": "k_gz_QfcqOH1"
      }
    },
    {
      "cell_type": "markdown",
      "source": [
        "- The main difference between GET and POST HTTP methods lies in how they transmit data and their side effects. GET retrieves data from a server, with parameters appended to the URL, and is generally idempotent (safe to repeat). POST, on the other hand, sends data to the server, often to create or update resources, and is not inherently idempotent."
      ],
      "metadata": {
        "id": "hnlmOm9WqSeq"
      }
    },
    {
      "cell_type": "markdown",
      "source": [
        "9. How do you handle errors in Flask APIs?"
      ],
      "metadata": {
        "id": "3Pgs55yFqbm0"
      }
    },
    {
      "cell_type": "markdown",
      "source": [
        "- Error handling in Flask APIs is crucial for providing informative responses to clients and maintaining a robust application. Here's a breakdown of common approaches:"
      ],
      "metadata": {
        "id": "OHt8Kl7cqfos"
      }
    },
    {
      "cell_type": "markdown",
      "source": [
        "- Flask, using Werkzeug, provides HTTP exception classes like BadRequest (400), Unauthorized (401), NotFound (404), etc."
      ],
      "metadata": {
        "id": "oT3tH2nrqsDg"
      }
    },
    {
      "cell_type": "markdown",
      "source": [
        "10.  How do you connect Flask to a SQL database?"
      ],
      "metadata": {
        "id": "2_2T3kuIqurW"
      }
    },
    {
      "cell_type": "markdown",
      "source": [
        "- Setting Up SQL"
      ],
      "metadata": {
        "id": "YjaM-ZoUqyb0"
      }
    },
    {
      "cell_type": "markdown",
      "source": [
        "- To create a database we need to import SQLAlchemy in app.py, set up SQLite configuration, and create a database instance as shown below."
      ],
      "metadata": {
        "id": "QwBohV5mrDT4"
      }
    },
    {
      "cell_type": "markdown",
      "source": [
        "- We set up Flask, connect it to a SQLite database."
      ],
      "metadata": {
        "id": "reWJpccOrGnQ"
      }
    },
    {
      "cell_type": "markdown",
      "source": [
        "- In the templates folder, create file \"add_profile. ..."
      ],
      "metadata": {
        "id": "lULT-5nIrMWw"
      }
    },
    {
      "cell_type": "markdown",
      "source": [
        "- Create a \"/add\" route in app.py."
      ],
      "metadata": {
        "id": "Rt2efIsZrPhr"
      }
    },
    {
      "cell_type": "markdown",
      "source": [
        "11. What is the role of Flask-SQLAlchemy?"
      ],
      "metadata": {
        "id": "wbxXFjB_rSXu"
      }
    },
    {
      "cell_type": "markdown",
      "source": [
        "- Flask-SQLAlchemy is a Flask extension that makes using SQLAlchemy with Flask easier, providing you tools and methods to interact with your database in your Flask applications through SQLAlchemy."
      ],
      "metadata": {
        "id": "F4pZml5jvCPI"
      }
    },
    {
      "cell_type": "markdown",
      "source": [
        "12. What are Flask blueprints, and how are they useful."
      ],
      "metadata": {
        "id": "tBdI5d4OvP1Y"
      }
    },
    {
      "cell_type": "markdown",
      "source": [
        "- Flask Blueprints provide a way to organize your application into distinct modules or components. Think of them as mini-applications that encapsulate related functionality."
      ],
      "metadata": {
        "id": "lKYII2FUvTj0"
      }
    },
    {
      "cell_type": "markdown",
      "source": [
        "13. What is the purpose of Flask's request object."
      ],
      "metadata": {
        "id": "M1WoCubZvcp2"
      }
    },
    {
      "cell_type": "markdown",
      "source": [
        "- The Flask request object is a crucial component for handling incoming HTTP requests in Flask web applications. It acts as a central repository for all the data associated with a specific request."
      ],
      "metadata": {
        "id": "U25zwleUvgz1"
      }
    },
    {
      "cell_type": "markdown",
      "source": [
        "14. How do you create a RESTful API endpoint using Flask?"
      ],
      "metadata": {
        "id": "M_XdMh5zvqk1"
      }
    },
    {
      "cell_type": "markdown",
      "source": [
        "- Install Flask:\n",
        "If you don't have Flask installed, use pip:"
      ],
      "metadata": {
        "id": "eB6kdd8Dw3zU"
      }
    },
    {
      "cell_type": "markdown",
      "source": [
        "-  Import necessary modules:\n",
        "In your Python file (e.g., app.py), import Flask, jsonify, and request:"
      ],
      "metadata": {
        "id": "4FEHV4eHxD6h"
      }
    },
    {
      "cell_type": "markdown",
      "source": [
        "- Define your endpoint using a decorator:\n",
        "Use the @app.route() decorator to map a URL path to a Python function. Specify the HTTP methods you want to handle (e.g., GET, POST, PUT, DELETE)."
      ],
      "metadata": {
        "id": "7EaMpvrWxHYq"
      }
    },
    {
      "cell_type": "markdown",
      "source": [
        "15. What is the purpose of Flask's jsonify() function?"
      ],
      "metadata": {
        "id": "N7-SjEQ_xMIJ"
      }
    },
    {
      "cell_type": "markdown",
      "source": [
        "- Flask's jsonify() function converts Python dictionaries or lists into JSON format and automatically sets the response's Content-Type header to application/json, making it suitable for creating JSON responses in web applications. It simplifies the process of returning JSON data from Flask routes and is commonly used in API development."
      ],
      "metadata": {
        "id": "_aoA6iu9xQ4b"
      }
    },
    {
      "cell_type": "markdown",
      "source": [
        "16. Explain Flask’s url_for() function."
      ],
      "metadata": {
        "id": "ab5dtzsyxcb3"
      }
    },
    {
      "cell_type": "markdown",
      "source": [
        "- The url_for() function in Flask is used to generate URLs dynamically based on the name of a view function and its associated parameters. It is a crucial tool for building robust and maintainable web applications."
      ],
      "metadata": {
        "id": "ZRS1lm_qxkrT"
      }
    },
    {
      "cell_type": "markdown",
      "source": [
        "17. How does Flask handle static files (CSS, JavaScript, etc.)."
      ],
      "metadata": {
        "id": "9B1xqW1ExlpW"
      }
    },
    {
      "cell_type": "markdown",
      "source": [
        "- Flask automatically handles static files like CSS, JavaScript, and images by serving them from a designated directory named \"static\" located in your application's root directory."
      ],
      "metadata": {
        "id": "wsAYmHDIxq6d"
      }
    },
    {
      "cell_type": "markdown",
      "source": [
        "- \"static\" Folder:\n",
        "Place all static files (CSS, JavaScript, images, etc.) within this folder.\n",
        "You can organize files into subfolders (e.g., static/css, static/js, static/images)."
      ],
      "metadata": {
        "id": "DRtAYxxrxysR"
      }
    },
    {
      "cell_type": "markdown",
      "source": [
        "18. What is an API specification, and how does it help in building a Flask API?"
      ],
      "metadata": {
        "id": "51AcEn9cx4vj"
      }
    },
    {
      "cell_type": "markdown",
      "source": [
        "- An API specification is a formal document that details how an API functions and how it should be used. It acts as a blueprint, defining the structure, behavior, and expected interaction of an API with other systems."
      ],
      "metadata": {
        "id": "M8Ow65Gpx-4v"
      }
    },
    {
      "cell_type": "markdown",
      "source": [
        "19. What are HTTP status codes, and why are they important in a Flask API?"
      ],
      "metadata": {
        "id": "ax5Jp6sMyL6_"
      }
    },
    {
      "cell_type": "markdown",
      "source": [
        "- HTTP status codes are three-digit codes that indicate the outcome of an API request. They are included in the API's response to the API client, and they include important information that helps the client know how to proceed."
      ],
      "metadata": {
        "id": "ogfnFVEqyTCv"
      }
    },
    {
      "cell_type": "markdown",
      "source": [
        "20. How do you handle POST requests in Flask?"
      ],
      "metadata": {
        "id": "lXGWWrpSyfCD"
      }
    },
    {
      "cell_type": "markdown",
      "source": [
        "- Define the Route:\n",
        "Use the @app.route() decorator to specify the URL endpoint that will handle the POST request.\n",
        "Include methods=['POST'] to indicate that this route should only accept POST requests."
      ],
      "metadata": {
        "id": "3DohMPHOyju6"
      }
    },
    {
      "cell_type": "markdown",
      "source": [
        "- Access Request Data:\n",
        "Use the request object (imported from flask) to access data sent in the POST request.\n",
        "request.form: Access form data submitted using HTML forms.\n",
        "request.json: Access JSON data sent in the request body.\n",
        "request.files: Access uploaded files."
      ],
      "metadata": {
        "id": "0TaqN51typPN"
      }
    },
    {
      "cell_type": "markdown",
      "source": [
        "21.  How would you secure a Flask API?"
      ],
      "metadata": {
        "id": "dV-ao1AFyvnz"
      }
    },
    {
      "cell_type": "markdown",
      "source": [
        "- Authentication and Authorization:\n",
        "Token-Based Authentication:\n",
        "Implement token-based authentication using JSON Web Tokens (JWT). This involves issuing a token upon successful login and validating it for subsequent requests. Libraries like Flask-JWT-Extended can simplify this process.\n",
        "OAuth 2.0:\n",
        "For more complex scenarios, consider using OAuth 2.0 for authorization. This allows users to grant limited access to their data without sharing their credentials.\n",
        "Flask-Login:\n",
        "Use Flask-Login for managing user sessions and access control. It helps implement user registration, login, and logout functionalities.\n",
        "Role-Based Access Control (RBAC):\n",
        "Implement RBAC to control access to different API endpoints based on user roles."
      ],
      "metadata": {
        "id": "sfi24ATcy0Nu"
      }
    },
    {
      "cell_type": "markdown",
      "source": [
        "22. What is the significance of the Flask-RESTful extension."
      ],
      "metadata": {
        "id": "tMFUPAT5zB9p"
      }
    },
    {
      "cell_type": "markdown",
      "source": [
        "- Flask-RESTful is a Flask extension that simplifies the development of REST APIs. It provides a structured way to handle resources and HTTP methods, making it easier to build and organize APIs using Python and Flask. Essentially, it streamlines the process of creating web services that adhere to REST architectural principles."
      ],
      "metadata": {
        "id": "xEDSjYt_zGu9"
      }
    },
    {
      "cell_type": "markdown",
      "source": [
        "23. What is the role of Flask’s session object?"
      ],
      "metadata": {
        "id": "BjCANohyzMg-"
      }
    },
    {
      "cell_type": "markdown",
      "source": [
        "- In Flask, the session object provides a way to store user-specific data across multiple requests, similar to how cookies work but with added security features. It acts like a dictionary where you can store and retrieve data associated with a particular user's session."
      ],
      "metadata": {
        "id": "DwOsvZjkzTLj"
      }
    },
    {
      "cell_type": "code",
      "source": [],
      "metadata": {
        "id": "nvw0Qyc4POvs"
      },
      "execution_count": null,
      "outputs": []
    },
    {
      "cell_type": "markdown",
      "source": [],
      "metadata": {
        "id": "8OaD3Ey2PPD0"
      }
    },
    {
      "cell_type": "markdown",
      "source": [
        "**PRACTICAL**"
      ],
      "metadata": {
        "id": "SV7ENX21za4v"
      }
    },
    {
      "cell_type": "markdown",
      "source": [
        "1. How do you create a basic Flask application?"
      ],
      "metadata": {
        "id": "eXY7ZNdpPP-N"
      }
    },
    {
      "cell_type": "code",
      "source": [
        "\n",
        "from flask import Flask\n",
        "\n",
        "app = Flask(__name__)\n",
        "\n",
        "@app.route(\"/\")\n",
        "def hello():\n",
        "    return \"Hello, World!\"\n",
        "\n",
        "if __name__ == \"__main__\":\n",
        "    app.run(debug=True)\n",
        "```"
      ],
      "metadata": {
        "id": "fjYGa7BYPa5k"
      },
      "execution_count": null,
      "outputs": []
    },
    {
      "cell_type": "code",
      "source": [],
      "metadata": {
        "id": "wlvva-xbPyNR"
      },
      "execution_count": null,
      "outputs": []
    },
    {
      "cell_type": "markdown",
      "source": [
        "2.  How do you serve static files like images or CSS in Flask?"
      ],
      "metadata": {
        "id": "vH-HeOg-P0XD"
      }
    },
    {
      "cell_type": "code",
      "source": [
        "<!-- In templates/index.html -->\n",
        "<!DOCTYPE html>\n",
        "<html>\n",
        "<head>\n",
        "    <link rel=\"stylesheet\" href=\"{{ url_for('static', filename='style.css') }}\">\n",
        "</head>\n",
        "<body>\n",
        "    <img src=\"{{ url_for('static', filename='images/logo.png') }}\" alt=\"Logo\">\n",
        "</body>\n",
        "</html>\n"
      ],
      "metadata": {
        "id": "TurdZkTep6ul"
      },
      "execution_count": null,
      "outputs": []
    },
    {
      "cell_type": "markdown",
      "source": [
        "3.  How do you define different routes with different HTTP methods in Flask?"
      ],
      "metadata": {
        "id": "tD_yrzchQNJi"
      }
    },
    {
      "cell_type": "code",
      "source": [
        "\n",
        "from flask import Flask, request, jsonify\n",
        "\n",
        "app = Flask(__name__)\n",
        "\n",
        "@app.route(\"/data\", methods=['GET'])\n",
        "def get_data():\n",
        "    # Logic to retrieve data\n",
        "    data = {\"message\": \"This is GET data\"}\n",
        "    return jsonify(data)\n",
        "\n",
        "@app.route(\"/data\", methods=['POST'])\n",
        "def create_data():\n",
        "    # Logic to create new data from request.json or request.form\n",
        "    new_data = request.json # Assuming JSON data is sent\n",
        "    response = {\"message\": \"Data created successfully\", \"received_data\": new_data}\n",
        "    return jsonify(response), 201 # Return 201 Created status code\n",
        "\n",
        "@app.route(\"/data/<int:data_id>\", methods=['PUT'])\n",
        "def update_data(data_id):\n",
        "    # Logic to update data with data_id from request.json or request.form\n",
        "    updated_data = request.json\n",
        "    response = {\"message\": f\"Data with ID {data_id} updated\", \"updated_data\": updated_data}\n",
        "    return jsonify(response)\n",
        "\n",
        "@app.route(\"/data/<int:data_id>\", methods=['DELETE'])\n",
        "def delete_data(data_id):\n",
        "    # Logic to delete data with data_id\n",
        "    response = {\"message\": f\"Data with ID {data_id} deleted\"}\n",
        "    return jsonify(response), 204 # Return 204 No Content status code\n",
        "\n",
        "if __name__ == \"__main__\":\n",
        "    app.run(debug=True)\n"
      ],
      "metadata": {
        "id": "P3vFJ9W5QS72"
      },
      "execution_count": null,
      "outputs": []
    },
    {
      "cell_type": "markdown",
      "source": [
        "4. How do you render HTML templates in Flask?"
      ],
      "metadata": {
        "id": "ngoFa2IaqX5_"
      }
    },
    {
      "cell_type": "code",
      "source": [
        "from flask import Flask, render_template\n",
        "\n",
        "app = Flask(__name__)\n",
        "\n",
        "@app.route('/')\n",
        "def home():\n",
        "    return render_template('index.html')  # Renders templates/index.html\n",
        "\n",
        "if __name__ == '__main__':\n",
        "    app.run(debug=True)\n"
      ],
      "metadata": {
        "id": "EjCbhS3YJfCj"
      },
      "execution_count": null,
      "outputs": []
    },
    {
      "cell_type": "markdown",
      "source": [
        "5. How can you generate URLs for routes in Flask using url_for?"
      ],
      "metadata": {
        "id": "wyiGSRBpAlae"
      }
    },
    {
      "cell_type": "code",
      "source": [
        "url_for(endpoint, **values)"
      ],
      "metadata": {
        "id": "gwV8bxxVq39G"
      },
      "execution_count": null,
      "outputs": []
    },
    {
      "cell_type": "code",
      "source": [
        "from flask import Flask, url_for\n",
        "\n",
        "app = Flask(__name__)\n",
        "\n",
        "@app.route('/user/<username>')\n",
        "def profile(username):\n",
        "    return f\"Profile page of {username}\"\n",
        "\n",
        "with app.test_request_context():\n",
        "    print(url_for('profile', username='alice'))\n"
      ],
      "metadata": {
        "id": "EaBOZO5gBFre"
      },
      "execution_count": null,
      "outputs": []
    },
    {
      "cell_type": "markdown",
      "source": [
        "6. How do you handle forms in Flask?"
      ],
      "metadata": {
        "id": "0U8zQHtUBLZj"
      }
    },
    {
      "cell_type": "code",
      "source": [
        "from flask import Flask, request, render_template\n",
        "\n",
        "app = Flask(__name__)\n",
        "\n",
        "@app.route('/form')\n",
        "def form():\n",
        "    return render_template('form.html')\n",
        "\n",
        "@app.route('/submit', methods=['POST'])\n",
        "def submit():\n",
        "    username = request.form['username']\n",
        "    return f'Hello, {username}!'\n"
      ],
      "metadata": {
        "id": "OTkbKzQsBU-f"
      },
      "execution_count": null,
      "outputs": []
    },
    {
      "cell_type": "markdown",
      "source": [
        "7. How can you validate form data in Flask?"
      ],
      "metadata": {
        "id": "Ro6pZ7leBpZU"
      }
    },
    {
      "cell_type": "code",
      "source": [
        "from flask import Flask, request, render_template_string\n",
        "\n",
        "app = Flask(__name__)\n",
        "\n",
        "@app.route('/submit', methods=['GET', 'POST'])\n",
        "def submit():\n",
        "    if request.method == 'POST':\n",
        "        username = request.form.get('username')\n",
        "        age = request.form.get('age')\n",
        "        errors = []\n",
        "        if not username:\n",
        "            errors.append(\"Username is required.\")\n",
        "        if not age or not age.isdigit():\n",
        "            errors.append(\"Valid age is required.\")\n",
        "\n",
        "        if errors:\n",
        "            return render_template_string('<p>{{ errors }}</p>', errors=errors)\n",
        "        return f'Welcome {username}, age {age}!'\n",
        "\n",
        "    return '''\n",
        "        <form method=\"post\">\n",
        "            Username: <input name=\"username\"><br>\n",
        "            Age: <input name=\"age\"><br>\n",
        "            <input type=\"submit\">\n",
        "        </form>\n",
        "    '''\n"
      ],
      "metadata": {
        "id": "dsQ8OhlmBuea"
      },
      "execution_count": null,
      "outputs": []
    },
    {
      "cell_type": "markdown",
      "source": [
        "8. How do you manage sessions in Flask?"
      ],
      "metadata": {
        "id": "WHAzXGK7CCbN"
      }
    },
    {
      "cell_type": "code",
      "source": [
        "from datetime import timedelta\n",
        "\n",
        "app.permanent_session_lifetime = timedelta(minutes=30)\n",
        "\n",
        "@app.route('/set_permanent')\n",
        "def set_permanent():\n",
        "    session.permanent = True\n",
        "    session['key'] = 'value'\n",
        "    return 'Permanent session set.'\n"
      ],
      "metadata": {
        "id": "24sV1hPCCJXL"
      },
      "execution_count": null,
      "outputs": []
    },
    {
      "cell_type": "markdown",
      "source": [
        "9.  How do you redirect to a different route in Flask?"
      ],
      "metadata": {
        "id": "ott6BKU0CnQH"
      }
    },
    {
      "cell_type": "code",
      "source": [
        "from flask import Flask, redirect, url_for\n",
        "\n",
        "app = Flask(__name__)\n",
        "\n",
        "@app.route('/')\n",
        "def home():\n",
        "    return 'This is the Home Page'\n",
        "\n",
        "@app.route('/login')\n",
        "def login():\n",
        "    return 'This is the Login Page'\n",
        "\n",
        "@app.route('/go-to-login')\n",
        "def go_to_login():\n",
        "    return redirect(url_for('login'))"
      ],
      "metadata": {
        "id": "dnT8HgafCsYy"
      },
      "execution_count": null,
      "outputs": []
    },
    {
      "cell_type": "markdown",
      "source": [
        "10. How do you handle errors in Flask (e.g., 404)?"
      ],
      "metadata": {
        "id": "CjpGcy54C4EZ"
      }
    },
    {
      "cell_type": "code",
      "source": [
        "from flask import Flask, render_template\n",
        "\n",
        "app = Flask(__name__)\n",
        "\n",
        "@app.errorhandler(404)\n",
        "def page_not_found(e):\n",
        "    return render_template('404.html'), 404\n"
      ],
      "metadata": {
        "id": "g1TKyRs_DHVb"
      },
      "execution_count": null,
      "outputs": []
    },
    {
      "cell_type": "markdown",
      "source": [
        "11. How do you structure a Flask app using Blueprints?"
      ],
      "metadata": {
        "id": "hw3F1gWIDTkp"
      }
    },
    {
      "cell_type": "code",
      "source": [
        "\n",
        "from flask import Blueprint\n",
        "\n",
        "auth_bp = Blueprint('auth', __name__, url_prefix='/auth')\n",
        "\n",
        "@auth_bp.route('/login')\n",
        "def login():\n",
        "    return \"Login Page\"\n",
        "\n",
        "@auth_bp.route('/register')\n",
        "def register():\n",
        "    return \"Register Page\"\n"
      ],
      "metadata": {
        "id": "gJwmCq6BCwGL"
      },
      "execution_count": null,
      "outputs": []
    },
    {
      "cell_type": "markdown",
      "source": [
        "12. How do you define a custom Jinja filter in Flask?"
      ],
      "metadata": {
        "id": "FXDzOtGlDWXE"
      }
    },
    {
      "cell_type": "code",
      "source": [
        "\n",
        "from flask import Flask\n",
        "\n",
        "app = Flask(__name__)\n",
        "\n",
        "# Define your custom filter function\n",
        "def reverse_string(s):\n",
        "  return s[::-1]\n",
        "\n",
        "# Register the custom filter\n",
        "app.jinja_env.filters['reverse'] = reverse_string\n",
        "\n",
        "@app.route('/')\n",
        "def index():\n",
        "  # Example usage in a template (assuming you have an index.html)\n",
        "  # {{ \"hello world\" | reverse }}  would render \"dlrow olleh\"\n",
        "  return '''\n",
        "    <h1>Custom Jinja Filter Example</h1>\n",
        "    <p>Original: hello world</p>\n",
        "    <p>Reversed: {{ \"hello world\" | reverse }}</p>\n",
        "  '''\n",
        "\n",
        "if __name__ == '__main__':\n",
        "  app.run(debug=True)\n"
      ],
      "metadata": {
        "id": "xU9hGR1SDirD"
      },
      "execution_count": null,
      "outputs": []
    },
    {
      "cell_type": "markdown",
      "source": [
        "13. How can you redirect with query parameters in Flask?"
      ],
      "metadata": {
        "id": "PG4ZtujeDqFw"
      }
    },
    {
      "cell_type": "code",
      "source": [
        "from flask import Flask, redirect, url_for\n",
        "\n",
        "app = Flask(__name__)\n",
        "\n",
        "@app.route('/redirect_with_params')\n",
        "def redirect_with_params():\n",
        "    # Define query parameters\n",
        "    param1 = 'value1'\n",
        "    param2 = 'value2'\n",
        "\n",
        "    # Redirect to another route with query parameters\n",
        "    return redirect(url_for('target_route', arg1=param1, arg2=param2))\n",
        "\n",
        "@app.route('/target_route')\n",
        "def target_route():\n",
        "    # Access the query parameters from the request object\n",
        "    arg1 = request.args.get('arg1')\n",
        "    arg2 = request.args.get('arg2')\n",
        "\n",
        "    return f\"Received parameters: arg1={arg1}, arg2={arg2}\"\n",
        "\n",
        "if __name__ == \"__main__\":\n",
        "    app.run(debug=True)\n",
        "```"
      ],
      "metadata": {
        "id": "p5pPGkVHDunr"
      },
      "execution_count": null,
      "outputs": []
    },
    {
      "cell_type": "markdown",
      "source": [
        "14.  How do you return JSON responses in Flask?"
      ],
      "metadata": {
        "id": "SyefjIQJD3GA"
      }
    },
    {
      "cell_type": "code",
      "source": [
        "from flask import Flask, jsonify\n",
        "\n",
        "app = Flask(__name__)\n",
        "\n",
        "@app.route('/json_example')\n",
        "def json_example():\n",
        "    data = {\n",
        "        'name': 'John Doe',\n",
        "        'age': 30,\n",
        "        'city': 'New York'\n",
        "    }\n",
        "    return jsonify(data)\n",
        "\n",
        "if __name__ == \"__main__\":\n",
        "    app.run(debug=True)\n",
        "```"
      ],
      "metadata": {
        "id": "4LmWXdOXD8Sc"
      },
      "execution_count": null,
      "outputs": []
    },
    {
      "cell_type": "markdown",
      "source": [
        "15. How do you capture URL parameters in Flask?"
      ],
      "metadata": {
        "id": "N4HOCdIDEUHL"
      }
    },
    {
      "cell_type": "code",
      "source": [
        "\n",
        "\n",
        "@app.route('/user/<username>')\n",
        "def show_user_profile(username):\n",
        "    # show the user profile for that user\n",
        "    return f'User {username}'\n",
        "\n",
        "@app.route('/post/<int:post_id>')\n",
        "def show_post(post_id):\n",
        "    # show the post with the given id, the id is an integer\n",
        "    return f'Post {post_id}'"
      ],
      "metadata": {
        "id": "h68MSbzQEZXA"
      },
      "execution_count": null,
      "outputs": []
    }
  ]
}